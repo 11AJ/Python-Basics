{
  "nbformat": 4,
  "nbformat_minor": 0,
  "metadata": {
    "colab": {
      "name": "Lists(Q&A).ipynb",
      "provenance": [],
      "authorship_tag": "ABX9TyNuEq5ud5n9+VMSRPoXBT2d",
      "include_colab_link": true
    },
    "kernelspec": {
      "name": "python3",
      "display_name": "Python 3"
    }
  },
  "cells": [
    {
      "cell_type": "markdown",
      "metadata": {
        "id": "view-in-github",
        "colab_type": "text"
      },
      "source": [
        "<a href=\"https://colab.research.google.com/github/11AJ/Python-Basics/blob/main/Lists(Q%26A).ipynb\" target=\"_parent\"><img src=\"https://colab.research.google.com/assets/colab-badge.svg\" alt=\"Open In Colab\"/></a>"
      ]
    },
    {
      "cell_type": "code",
      "metadata": {
        "colab": {
          "base_uri": "https://localhost:8080/"
        },
        "id": "_nx9G2mZ1zqR",
        "outputId": "222cab43-db6a-4794-8828-41f57483d85d"
      },
      "source": [
        "#Reverse a given list in Python\n",
        "aLsit = [100, 200, 300, 400, 500]\n",
        "\n",
        "aLsit.reverse()\n",
        "print(aLsit)"
      ],
      "execution_count": null,
      "outputs": [
        {
          "output_type": "stream",
          "text": [
            "[500, 400, 300, 200, 100]\n"
          ],
          "name": "stdout"
        }
      ]
    },
    {
      "cell_type": "code",
      "metadata": {
        "colab": {
          "base_uri": "https://localhost:8080/"
        },
        "id": "Oy1UQyY02U-U",
        "outputId": "e57fa4da-0190-4e87-9c66-ea6b54358cc6"
      },
      "source": [
        "#Concatenate two lists index-wise\n",
        "\n",
        "list1 = [\"M\", \"na\", \"i\", \"Ke\"]\n",
        "list2 = [\"y\", \"me\", \"s\", \"lly\"]\n",
        "\n",
        "list3= [a+b for a,b in zip(list1,list2)]\n",
        "print(list3)"
      ],
      "execution_count": null,
      "outputs": [
        {
          "output_type": "stream",
          "text": [
            "['My', 'name', 'is', 'Kelly']\n"
          ],
          "name": "stdout"
        }
      ]
    },
    {
      "cell_type": "code",
      "metadata": {
        "colab": {
          "base_uri": "https://localhost:8080/"
        },
        "id": "PwYHSON43oJD",
        "outputId": "20d4ec46-0d8d-4f72-a652-691329fc872c"
      },
      "source": [
        "#Given a Python list of numbers. Turn every item of a list into its square\n",
        "\n",
        "aList = [1, 2, 3, 4, 5, 6, 7]\n",
        "\n",
        "list=[a*a for a in aList]\n",
        "\n",
        "print(list)"
      ],
      "execution_count": null,
      "outputs": [
        {
          "output_type": "stream",
          "text": [
            "[1, 4, 9, 16, 25, 36, 49]\n"
          ],
          "name": "stdout"
        }
      ]
    },
    {
      "cell_type": "code",
      "metadata": {
        "colab": {
          "base_uri": "https://localhost:8080/"
        },
        "id": "kIyIYC6H5DBp",
        "outputId": "0b6d9fa6-737a-4b6d-c3ab-ef195e16192f"
      },
      "source": [
        "#Concatenate two lists in the following order\n",
        "\n",
        "list1 = [\"Hello \", \"take \"]\n",
        "list2 = [\"Dear\", \"Sir\"]\n",
        "\n",
        "list3= [a+b for a,b in zip(list1,list2)]\n",
        "list4 =[i+j for i,j in zip(list1,list2)]\n",
        "\n",
        "print(list3 + list4)"
      ],
      "execution_count": null,
      "outputs": [
        {
          "output_type": "stream",
          "text": [
            "['Hello Dear', 'take Sir', 'Hello Dear', 'take Sir']\n"
          ],
          "name": "stdout"
        }
      ]
    },
    {
      "cell_type": "code",
      "metadata": {
        "colab": {
          "base_uri": "https://localhost:8080/"
        },
        "id": "NyQrfack5d3N",
        "outputId": "ddccff0f-5917-4413-fc72-7b55fd58e2c5"
      },
      "source": [
        "#Given a two Python list. Iterate both lists simultaneously such that list1 should display item in original order and list2 in reverse order\n",
        "\n",
        "list1 = [10, 20, 30, 40]\n",
        "list2 = [100, 200, 300, 400]\n",
        "list2.reverse()\n",
        "\n",
        "for x,y in zip(list1,list2):\n",
        "  print(x,y)\n"
      ],
      "execution_count": null,
      "outputs": [
        {
          "output_type": "stream",
          "text": [
            "10 400\n",
            "20 300\n",
            "30 200\n",
            "40 100\n"
          ],
          "name": "stdout"
        }
      ]
    },
    {
      "cell_type": "code",
      "metadata": {
        "id": "uM_w_0cD6OSG"
      },
      "source": [
        "#Remove empty strings from the list of strings\n",
        "\n",
        "list1 = [\"Mike\", \"\", \"Emma\", \"Kelly\", \"\", \"Brad\"]\n",
        "\n",
        "for i in list1:\n",
        "  if()"
      ],
      "execution_count": null,
      "outputs": []
    },
    {
      "cell_type": "code",
      "metadata": {
        "colab": {
          "base_uri": "https://localhost:8080/"
        },
        "id": "f11lcuDS8f2E",
        "outputId": "22daa8ce-de28-40a0-f70f-be2bcfec7eb3"
      },
      "source": [
        "#Add item 7000 after 6000 in the following Python List\n",
        "\n",
        "list1 = [10, 20, [300, 400, [5000, 6000], 500], 30, 40]\n",
        "\n",
        "list1[2][2].insert(3,7000)\n",
        "print(list1)"
      ],
      "execution_count": null,
      "outputs": [
        {
          "output_type": "stream",
          "text": [
            "[10, 20, [300, 400, [5000, 6000, 7000], 500], 30, 40]\n"
          ],
          "name": "stdout"
        }
      ]
    },
    {
      "cell_type": "code",
      "metadata": {
        "colab": {
          "base_uri": "https://localhost:8080/"
        },
        "id": "bBklebSh85Ec",
        "outputId": "74526818-5b14-4fdc-c642-509c9398eb4f"
      },
      "source": [
        "#Given a nested list extend it by adding the sub list [\"h\", \"i\", \"j\"] in such a way that it will look like the following list\n",
        "\n",
        "list1 = [\"a\", \"b\", [\"c\", [\"d\", \"e\", [\"f\", \"g\"], \"k\"], \"l\"], \"m\", \"n\"]\n",
        "\n",
        "list2=[\"h\", \"i\", \"j\"]\n",
        "\n",
        "list1[2][1][2].extend(list2)\n",
        "\n",
        "print(list1)"
      ],
      "execution_count": null,
      "outputs": [
        {
          "output_type": "stream",
          "text": [
            "['a', 'b', ['c', ['d', 'e', ['f', 'g', 'h', 'i', 'j'], 'k'], 'l'], 'm', 'n']\n"
          ],
          "name": "stdout"
        }
      ]
    },
    {
      "cell_type": "code",
      "metadata": {
        "colab": {
          "base_uri": "https://localhost:8080/"
        },
        "id": "MckZlMv091kB",
        "outputId": "a312998d-b939-4b96-810d-94f315c0fa7a"
      },
      "source": [
        "#Given a Python list, find value 20 in the list, and if it is present, replace it with 200. Only update the first occurrence of a value\n",
        "\n",
        "list1 = [5, 10, 15, 20, 25, 50, 20]\n",
        "check = list1.index(20)\n",
        "list1[check]=200\n",
        "print(list1)"
      ],
      "execution_count": null,
      "outputs": [
        {
          "output_type": "stream",
          "text": [
            "[5, 10, 15, 200, 25, 50, 20]\n"
          ],
          "name": "stdout"
        }
      ]
    },
    {
      "cell_type": "code",
      "metadata": {
        "colab": {
          "base_uri": "https://localhost:8080/"
        },
        "id": "nHkElaB7-i6X",
        "outputId": "abe82c06-040d-4982-b804-873ccc2345fb"
      },
      "source": [
        "#Given a Python list, remove all occurrence of 20 from the list\n",
        "\n",
        "list1 = [5, 20, 15, 20, 25, 50, 20]\n",
        "\n",
        "for a in list1:\n",
        "  if(a == 20):\n",
        "    list1.remove(a)\n",
        "\n",
        "print(list1)"
      ],
      "execution_count": null,
      "outputs": [
        {
          "output_type": "stream",
          "text": [
            "[5, 15, 25, 50]\n"
          ],
          "name": "stdout"
        }
      ]
    },
    {
      "cell_type": "code",
      "metadata": {
        "id": "DeNAQuRM_DQX"
      },
      "source": [
        ""
      ],
      "execution_count": null,
      "outputs": []
    }
  ]
}