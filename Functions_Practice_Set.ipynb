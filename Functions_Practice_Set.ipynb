{
  "nbformat": 4,
  "nbformat_minor": 0,
  "metadata": {
    "colab": {
      "name": "Functions_Practice_Set.ipynb",
      "provenance": []
    },
    "kernelspec": {
      "name": "python3",
      "display_name": "Python 3"
    },
    "language_info": {
      "name": "python"
    }
  },
  "cells": [
    {
      "cell_type": "markdown",
      "metadata": {
        "id": "IDfoB1Ffze5D"
      },
      "source": [
        "Create a function showEmployee() in such a way that it should accept employee name, and its salary and display both. If the salary is missing in the function call assign default value 9000 to salary"
      ]
    },
    {
      "cell_type": "code",
      "metadata": {
        "id": "un1beKFMzPr2"
      },
      "source": [
        "def showEmployee(name, salary=9000):\n",
        "    print(\"Employee\", name, \"salary is:\", salary)"
      ],
      "execution_count": 2,
      "outputs": []
    },
    {
      "cell_type": "code",
      "metadata": {
        "colab": {
          "base_uri": "https://localhost:8080/"
        },
        "id": "mdHOCyNnzivC",
        "outputId": "56701311-0c04-4621-adb2-9c86567f7448"
      },
      "source": [
        "showEmployee(\"Aashu\", 9000)"
      ],
      "execution_count": 5,
      "outputs": [
        {
          "output_type": "stream",
          "text": [
            "Employee Aashu salary is: 9000\n"
          ],
          "name": "stdout"
        }
      ]
    },
    {
      "cell_type": "code",
      "metadata": {
        "colab": {
          "base_uri": "https://localhost:8080/"
        },
        "id": "1l8tkglYzotG",
        "outputId": "22d972ee-63b6-4da6-e763-a9e9c8c76d6c"
      },
      "source": [
        "showEmployee(\"Aashu\")"
      ],
      "execution_count": 6,
      "outputs": [
        {
          "output_type": "stream",
          "text": [
            "Employee Aashu salary is: 9000\n"
          ],
          "name": "stdout"
        }
      ]
    },
    {
      "cell_type": "markdown",
      "metadata": {
        "id": "Sjs8_UbVzwdL"
      },
      "source": [
        "Create an inner function to calculate the addition in the following way\n",
        "Create an outer function that will accept two parameters, a and b\n",
        "Create an inner function inside an outer function that will calculate the addition of a and b\n",
        "At last, an outer function will add 5 into addition and return it"
      ]
    },
    {
      "cell_type": "code",
      "metadata": {
        "id": "3bs8f0lOzpzr"
      },
      "source": [
        "def outerFun(a, b):\n",
        "    square = a**2\n",
        "    def innerFun(a,b):\n",
        "        return a+b\n",
        "    add = innerFun(a, b)\n",
        "    return add+5"
      ],
      "execution_count": 7,
      "outputs": []
    },
    {
      "cell_type": "code",
      "metadata": {
        "colab": {
          "base_uri": "https://localhost:8080/"
        },
        "id": "wJGU6gkSz2iO",
        "outputId": "a0294515-4096-4591-b3ed-43778eb7e627"
      },
      "source": [
        "result = outerFun(5, 10)\n",
        "print(result)"
      ],
      "execution_count": 8,
      "outputs": [
        {
          "output_type": "stream",
          "text": [
            "20\n"
          ],
          "name": "stdout"
        }
      ]
    },
    {
      "cell_type": "markdown",
      "metadata": {
        "id": "X2Z0YpJF0Tnz"
      },
      "source": [
        "Write a Python function that checks whether a passed string is palindrome or not.\n",
        "\n",
        "Note: A palindrome is a word, phrase, or sequence that reads the same backward as forward, e.g., madam or nurses run."
      ]
    },
    {
      "cell_type": "code",
      "metadata": {
        "id": "_kLNJdySz3BK"
      },
      "source": [
        "def isPalindrome(s):\n",
        "    return s == s[::-1]"
      ],
      "execution_count": 9,
      "outputs": []
    },
    {
      "cell_type": "code",
      "metadata": {
        "colab": {
          "base_uri": "https://localhost:8080/"
        },
        "id": "BYws-aTT2vg7",
        "outputId": "00137307-1a03-4d4f-966c-81a23d95217d"
      },
      "source": [
        "isPalindrome('aashu')"
      ],
      "execution_count": 10,
      "outputs": [
        {
          "output_type": "execute_result",
          "data": {
            "text/plain": [
              "False"
            ]
          },
          "metadata": {
            "tags": []
          },
          "execution_count": 10
        }
      ]
    },
    {
      "cell_type": "markdown",
      "metadata": {
        "id": "dbBhPKpJ0UIa"
      },
      "source": [
        "Write a Python program to access a function inside a function.\n",
        "\n"
      ]
    },
    {
      "cell_type": "code",
      "metadata": {
        "id": "Y0TjQfUC0Uqq"
      },
      "source": [
        "def test(a):\n",
        "        def add(b):\n",
        "                nonlocal a\n",
        "                a += 1\n",
        "                return a+b\n",
        "        return add"
      ],
      "execution_count": 22,
      "outputs": []
    },
    {
      "cell_type": "code",
      "metadata": {
        "colab": {
          "base_uri": "https://localhost:8080/"
        },
        "id": "awu3BVNW5WDe",
        "outputId": "d829e38e-3791-49f3-c96f-f0e6bc5ac080"
      },
      "source": [
        "func= test(4)\n",
        "print(func(4))"
      ],
      "execution_count": 27,
      "outputs": [
        {
          "output_type": "stream",
          "text": [
            "9\n"
          ],
          "name": "stdout"
        }
      ]
    },
    {
      "cell_type": "markdown",
      "metadata": {
        "id": "CCMMZa0O50rS"
      },
      "source": [
        "Write a Python function that takes a number as a parameter and check the number is prime or not.\n",
        "\n",
        "Note : A prime number (or a prime) is a natural number greater than 1 and that has no positive divisors other than 1 and itself."
      ]
    },
    {
      "cell_type": "code",
      "metadata": {
        "id": "HxNofPiN5nKa"
      },
      "source": [
        "def test_prime(n):\n",
        "    if (n==1):\n",
        "        return False\n",
        "    elif (n==2):\n",
        "        return True;\n",
        "    else:\n",
        "        for x in range(2,n):\n",
        "            if(n % x==0):\n",
        "                return False\n",
        "        return True             "
      ],
      "execution_count": 28,
      "outputs": []
    },
    {
      "cell_type": "code",
      "metadata": {
        "colab": {
          "base_uri": "https://localhost:8080/"
        },
        "id": "N0PaqXXQ55ku",
        "outputId": "fc932067-dbe1-4e30-9e99-f4631d1b7b38"
      },
      "source": [
        "print(test_prime(9))"
      ],
      "execution_count": 29,
      "outputs": [
        {
          "output_type": "stream",
          "text": [
            "False\n"
          ],
          "name": "stdout"
        }
      ]
    },
    {
      "cell_type": "markdown",
      "metadata": {
        "id": "qLChVsUm5-fS"
      },
      "source": [
        "Write a Python program to reverse a string.\n",
        "\n"
      ]
    },
    {
      "cell_type": "code",
      "metadata": {
        "id": "1MEhTaBa56LQ"
      },
      "source": [
        "def reverse(s):\n",
        "    s = s[::-1]\n",
        "    return s"
      ],
      "execution_count": 33,
      "outputs": []
    },
    {
      "cell_type": "code",
      "metadata": {
        "colab": {
          "base_uri": "https://localhost:8080/",
          "height": 35
        },
        "id": "JrKt5MmR6KR0",
        "outputId": "94c67358-d059-4c32-a733-7858096f4e30"
      },
      "source": [
        "reverse('aashu')"
      ],
      "execution_count": 34,
      "outputs": [
        {
          "output_type": "execute_result",
          "data": {
            "application/vnd.google.colaboratory.intrinsic+json": {
              "type": "string"
            },
            "text/plain": [
              "'uhsaa'"
            ]
          },
          "metadata": {
            "tags": []
          },
          "execution_count": 34
        }
      ]
    },
    {
      "cell_type": "markdown",
      "metadata": {
        "id": "R4eDdgly6Yei"
      },
      "source": [
        "Write a Python function to check whether a number is in a given range.\n",
        "\n"
      ]
    },
    {
      "cell_type": "code",
      "metadata": {
        "id": "ZnHj0UGX6MPn"
      },
      "source": [
        "def test_range(n):\n",
        "    if n in range(3,9):\n",
        "        print(n,\"is in the range\")\n",
        "    else :\n",
        "        print(\"The number is outside the given range.\")\n"
      ],
      "execution_count": 38,
      "outputs": []
    },
    {
      "cell_type": "code",
      "metadata": {
        "colab": {
          "base_uri": "https://localhost:8080/"
        },
        "id": "SE-egSI16eQR",
        "outputId": "f99bdd27-cb5f-40b9-d011-4db1bc5d34c4"
      },
      "source": [
        "test_range(5)"
      ],
      "execution_count": 39,
      "outputs": [
        {
          "output_type": "stream",
          "text": [
            "5 is in the range\n"
          ],
          "name": "stdout"
        }
      ]
    },
    {
      "cell_type": "markdown",
      "metadata": {
        "id": "h0SK_Kui6-2x"
      },
      "source": [
        "Write a Python function that takes a list and returns a new list with unique elements of the first list.\n",
        "\n"
      ]
    },
    {
      "cell_type": "code",
      "metadata": {
        "id": "mPuC1_-O6e1E"
      },
      "source": [
        "def unique_list(l):\n",
        "  x = []\n",
        "  for a in l:\n",
        "    if a not in x:\n",
        "      x.append(a)\n",
        "  return x"
      ],
      "execution_count": 40,
      "outputs": []
    },
    {
      "cell_type": "code",
      "metadata": {
        "colab": {
          "base_uri": "https://localhost:8080/"
        },
        "id": "6dgfYdal7BKk",
        "outputId": "8a2ca1b6-f455-4e5d-cdf1-de9efb60c3e7"
      },
      "source": [
        "print(unique_list([1,2,3,3,3,3,4,5])) \n"
      ],
      "execution_count": 41,
      "outputs": [
        {
          "output_type": "stream",
          "text": [
            "[1, 2, 3, 4, 5]\n"
          ],
          "name": "stdout"
        }
      ]
    },
    {
      "cell_type": "code",
      "metadata": {
        "id": "vvNfom6P7DFP"
      },
      "source": [
        ""
      ],
      "execution_count": null,
      "outputs": []
    }
  ]
}