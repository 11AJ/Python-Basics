{
  "nbformat": 4,
  "nbformat_minor": 0,
  "metadata": {
    "colab": {
      "name": "Functions (Q&A).ipynb",
      "provenance": [],
      "authorship_tag": "ABX9TyPkXrS5reuUOAfRu16gfJAc",
      "include_colab_link": true
    },
    "kernelspec": {
      "name": "python3",
      "display_name": "Python 3"
    },
    "language_info": {
      "name": "python"
    }
  },
  "cells": [
    {
      "cell_type": "markdown",
      "metadata": {
        "id": "view-in-github",
        "colab_type": "text"
      },
      "source": [
        "<a href=\"https://colab.research.google.com/github/11AJ/Python-Basics/blob/main/Functions(Q%26A).ipynb\" target=\"_parent\"><img src=\"https://colab.research.google.com/assets/colab-badge.svg\" alt=\"Open In Colab\"/></a>"
      ]
    },
    {
      "cell_type": "code",
      "metadata": {
        "colab": {
          "base_uri": "https://localhost:8080/"
        },
        "id": "H3pZ8hUfV8rt",
        "outputId": "eb92d252-2391-40db-d451-0736ae4db207"
      },
      "source": [
        "#Write a Python function to find the Max of three numbers.\n",
        "\n",
        "def large(a,b,c):\n",
        "  list=[a,b,c]\n",
        "  print(max(list))\n",
        "\n",
        "large(15,19,2)"
      ],
      "execution_count": null,
      "outputs": [
        {
          "output_type": "stream",
          "text": [
            "19\n"
          ],
          "name": "stdout"
        }
      ]
    },
    {
      "cell_type": "code",
      "metadata": {
        "colab": {
          "base_uri": "https://localhost:8080/"
        },
        "id": "wFZrpbScWVxI",
        "outputId": "ceb2ec11-eb49-41c1-9c33-bef82cf681e5"
      },
      "source": [
        "#Write a Python function to sum all the numbers in a list. \n",
        "\n",
        "def addition(*numbers):\n",
        "  total=0\n",
        "  for x in numbers:\n",
        "    total += x\n",
        "  return(total)\n",
        "\n",
        "addition(10,2,3,6,9)"
      ],
      "execution_count": null,
      "outputs": [
        {
          "output_type": "execute_result",
          "data": {
            "text/plain": [
              "30"
            ]
          },
          "metadata": {
            "tags": []
          },
          "execution_count": 18
        }
      ]
    },
    {
      "cell_type": "code",
      "metadata": {
        "colab": {
          "base_uri": "https://localhost:8080/"
        },
        "id": "nl1H_oBPYnFe",
        "outputId": "7d4021e1-a359-45d5-82c0-0480fcc23f6b"
      },
      "source": [
        "#Write a Python function to multiply all the numbers in a list.\n",
        "\n",
        "def mul(*numbers):\n",
        "  total = 1\n",
        "  for a in numbers:\n",
        "    total = total * a\n",
        "  return(total)\n",
        "\n",
        "mul(2,4,6)"
      ],
      "execution_count": null,
      "outputs": [
        {
          "output_type": "execute_result",
          "data": {
            "text/plain": [
              "48"
            ]
          },
          "metadata": {
            "tags": []
          },
          "execution_count": 20
        }
      ]
    },
    {
      "cell_type": "code",
      "metadata": {
        "colab": {
          "base_uri": "https://localhost:8080/"
        },
        "id": "oqb3S-GhbH5w",
        "outputId": "af5cc388-941d-4c4b-d776-348930126353"
      },
      "source": [
        "#Write a Python program to reverse a string.\n",
        "\n",
        "def rev(str):\n",
        "  print(str[::-1])\n",
        "\n",
        "rev('abhi')"
      ],
      "execution_count": null,
      "outputs": [
        {
          "output_type": "stream",
          "text": [
            "ihba\n"
          ],
          "name": "stdout"
        }
      ]
    },
    {
      "cell_type": "code",
      "metadata": {
        "colab": {
          "base_uri": "https://localhost:8080/"
        },
        "id": "HW2Hvtyud-Na",
        "outputId": "b1aa7887-64d9-430b-ad97-aecf96480df8"
      },
      "source": [
        "#Write a Python function to calculate the factorial of a number (a non-negative integer). The function accepts the number as an argument.\n",
        "\n",
        "def fact(num):\n",
        "  total = 1\n",
        "  for i in range(1,num+1):\n",
        "    total= total *i\n",
        "  return(total)\n",
        "\n",
        "fact(5)"
      ],
      "execution_count": null,
      "outputs": [
        {
          "output_type": "execute_result",
          "data": {
            "text/plain": [
              "120"
            ]
          },
          "metadata": {
            "tags": []
          },
          "execution_count": 39
        }
      ]
    },
    {
      "cell_type": "code",
      "metadata": {
        "colab": {
          "base_uri": "https://localhost:8080/"
        },
        "id": "fMXTdFZAe_0C",
        "outputId": "554f0fe8-9e34-4eb3-9bd2-c99c09885b76"
      },
      "source": [
        "#Write a Python function to check whether a number is in a given range. \n",
        "\n",
        "def check(num):\n",
        "  for i in range(1,10):\n",
        "    if(num==i):\n",
        "      print('yes it is in range')\n",
        "      break\n",
        "  else:\n",
        "      print('not in range')\n",
        "\n",
        "check(10)"
      ],
      "execution_count": null,
      "outputs": [
        {
          "output_type": "stream",
          "text": [
            "not in range\n"
          ],
          "name": "stdout"
        }
      ]
    },
    {
      "cell_type": "code",
      "metadata": {
        "colab": {
          "base_uri": "https://localhost:8080/"
        },
        "id": "QbYZUT6QgVic",
        "outputId": "06d24f63-da5d-46ec-962c-d063df923807"
      },
      "source": [
        "#Write a Python function that accepts a string and calculate the number of upper case letters and lower case letters\n",
        "\n",
        "def casecheck(str):\n",
        "  lowercase=0\n",
        "  uppercase=0\n",
        "\n",
        "  for a in str:\n",
        "    if(a.isupper()):\n",
        "      uppercase +=1\n",
        "    elif(a.islower()):\n",
        "      lowercase +=1\n",
        "    else:\n",
        "      pass\n",
        "  print('Lowercase',lowercase)\n",
        "  print('Uppercase',uppercase)\n",
        "\n",
        "casecheck('Myself Abhishek')"
      ],
      "execution_count": null,
      "outputs": [
        {
          "output_type": "stream",
          "text": [
            "Lowercase 12\n",
            "Uppercase 2\n"
          ],
          "name": "stdout"
        }
      ]
    },
    {
      "cell_type": "code",
      "metadata": {
        "colab": {
          "base_uri": "https://localhost:8080/"
        },
        "id": "NoxcvalCiEHG",
        "outputId": "0f764890-2e20-45f3-b7a1-cac3bd93b99a"
      },
      "source": [
        "def filter(*num):\n",
        "  list=[]\n",
        "  for a in num:\n",
        "    if a not in list:\n",
        "      list.append(a)\n",
        "    else:\n",
        "      pass\n",
        "  print(list)\n",
        "\n",
        "filter(1,2,3,4,5,6,3,4,2,1,10)"
      ],
      "execution_count": null,
      "outputs": [
        {
          "output_type": "stream",
          "text": [
            "[1, 2, 3, 4, 5, 6, 10]\n"
          ],
          "name": "stdout"
        }
      ]
    },
    {
      "cell_type": "code",
      "metadata": {
        "colab": {
          "base_uri": "https://localhost:8080/"
        },
        "id": "-ez0_vMgkrRN",
        "outputId": "65d8576c-8e40-4bf1-907b-626f94eed6b7"
      },
      "source": [
        " #Write a Python function that takes a number as a parameter and check the number is prime or not.\n",
        "\n",
        "def check(num):\n",
        "  if (num==1):\n",
        "    print(num,'is not prime')\n",
        "  elif(num==2):\n",
        "    print(num,'is prime')\n",
        "  else:  \n",
        "    for a in range(2,num):\n",
        "      if num%a==0:\n",
        "        print(num,'is not prime')\n",
        "        break\n",
        "    else:\n",
        "      print(num,'is prime')\n",
        "\n",
        "check(1)"
      ],
      "execution_count": null,
      "outputs": [
        {
          "output_type": "stream",
          "text": [
            "1 is not prime\n"
          ],
          "name": "stdout"
        }
      ]
    },
    {
      "cell_type": "code",
      "metadata": {
        "colab": {
          "base_uri": "https://localhost:8080/"
        },
        "id": "3_2_a5zQnZsz",
        "outputId": "9951911a-de58-467b-f5df-74c2ed95bce8"
      },
      "source": [
        "#Write a Python program to print the even numbers from a given list.\n",
        "\n",
        "def even(*num):\n",
        "  list=[]\n",
        "  for a in num:\n",
        "    if(a%2==0):\n",
        "      list.append(a)\n",
        "    else:\n",
        "      pass\n",
        "\n",
        "  print(list)\n",
        "\n",
        "even(1,2,3,5,6,8,9)"
      ],
      "execution_count": null,
      "outputs": [
        {
          "output_type": "stream",
          "text": [
            "[2, 6, 8]\n"
          ],
          "name": "stdout"
        }
      ]
    },
    {
      "cell_type": "code",
      "metadata": {
        "colab": {
          "base_uri": "https://localhost:8080/"
        },
        "id": "8GOu2Fd_qWxf",
        "outputId": "3c992dfc-b987-403c-c4ff-499441cd807f"
      },
      "source": [
        "# Write a Python function to check whether a number is perfect or not.\n",
        "\n",
        "def perfect(num):\n",
        "  list=[]\n",
        "  for a in range(1,num):\n",
        "    if(num%a==0):\n",
        "      list.append(a)\n",
        "    else:\n",
        "      pass\n",
        "  b=sum(list)\n",
        "\n",
        "  if(b==num):\n",
        "    print(num,'is perfect number')\n",
        "  else:\n",
        "    print(num,'is not perfect')\n",
        "\n",
        "perfect(28)"
      ],
      "execution_count": null,
      "outputs": [
        {
          "output_type": "stream",
          "text": [
            "28 is perfect number\n"
          ],
          "name": "stdout"
        }
      ]
    },
    {
      "cell_type": "code",
      "metadata": {
        "colab": {
          "base_uri": "https://localhost:8080/"
        },
        "id": "H08dTSt7s1vJ",
        "outputId": "45f2f999-45aa-4007-f134-f80ccd6f4b53"
      },
      "source": [
        "#Write a Python function that checks whether a passed string is palindrome or not.\n",
        "\n",
        "def pali(str):\n",
        "  b=str[::-1]\n",
        "\n",
        "  if(str==b):\n",
        "    print('yes')\n",
        "  else:\n",
        "    print('no')\n",
        "\n",
        "pali('madam')"
      ],
      "execution_count": null,
      "outputs": [
        {
          "output_type": "stream",
          "text": [
            "yes\n"
          ],
          "name": "stdout"
        }
      ]
    },
    {
      "cell_type": "code",
      "metadata": {
        "id": "FwyAgU6Jvs1V",
        "colab": {
          "base_uri": "https://localhost:8080/"
        },
        "outputId": "9b08023d-358c-4aae-9931-6b5bf8dab95a"
      },
      "source": [
        "#Write a Python function to check whether a string is a pangram or not.\n",
        "\n",
        "def check(stri):\n",
        "  countyes=0\n",
        "  countno=0\n",
        "  alphabet='abcdefghijklmnopqrstuvwxyz'\n",
        "  for a in alphabet:\n",
        "    if a not in stri:\n",
        "      countno+=1\n",
        "    else:\n",
        "      countyes+=1\n",
        "\n",
        "  if(countno!=0):\n",
        "    print('no')\n",
        "  elif(countyes==26):\n",
        "    print('yes')\n",
        "  else:pass          \n",
        "      \n",
        "check('The quick brown fox jumps over the lazy dog')"
      ],
      "execution_count": null,
      "outputs": [
        {
          "output_type": "stream",
          "text": [
            "no\n"
          ],
          "name": "stdout"
        }
      ]
    },
    {
      "cell_type": "code",
      "metadata": {
        "colab": {
          "base_uri": "https://localhost:8080/"
        },
        "id": "Bqj4fNq0DF6D",
        "outputId": "19241049-4a9c-46fc-b7a9-7a0a09827f38"
      },
      "source": [
        "#Write a Python program that accepts a hyphen-separated sequence of words as input and prints the words in a hyphen-separated sequence after sorting them alphabetically.\n",
        "\n",
        "def separate(s):\n",
        "  item = [i for i in s.split('-')]\n",
        "  item.sort()\n",
        "  print('-'.join(item))\n",
        "\n",
        "separate('green-red-yellow-black-white')"
      ],
      "execution_count": null,
      "outputs": [
        {
          "output_type": "stream",
          "text": [
            "black-green-red-white-yellow\n"
          ],
          "name": "stdout"
        }
      ]
    },
    {
      "cell_type": "code",
      "metadata": {
        "id": "suPfTwBKEY2j"
      },
      "source": [
        ""
      ],
      "execution_count": null,
      "outputs": []
    }
  ]
}