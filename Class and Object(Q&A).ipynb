{
  "nbformat": 4,
  "nbformat_minor": 0,
  "metadata": {
    "colab": {
      "name": "Test  Abhishek.ipynb",
      "provenance": [],
      "authorship_tag": "ABX9TyNShFDPgvNH0mb0TdeBmrwY",
      "include_colab_link": true
    },
    "kernelspec": {
      "name": "python3",
      "display_name": "Python 3"
    },
    "language_info": {
      "name": "python"
    }
  },
  "cells": [
    {
      "cell_type": "markdown",
      "metadata": {
        "id": "view-in-github",
        "colab_type": "text"
      },
      "source": [
        "<a href=\"https://colab.research.google.com/github/11AJ/Python-Basics/blob/main/Class%20and%20Object(Q%26A).ipynb\" target=\"_parent\"><img src=\"https://colab.research.google.com/assets/colab-badge.svg\" alt=\"Open In Colab\"/></a>"
      ]
    },
    {
      "cell_type": "markdown",
      "metadata": {
        "id": "louAzgUTRl8l"
      },
      "source": [
        "Display all duplicate items from a list, sample_list = [10, 20, 60, 30, 20, 40, 30, 60, 70, 80]"
      ]
    },
    {
      "cell_type": "code",
      "metadata": {
        "colab": {
          "base_uri": "https://localhost:8080/"
        },
        "id": "LoxNjcyKRpg1",
        "outputId": "e637736c-5615-4412-cdb1-138894f6b174"
      },
      "source": [
        "sample_list=  [10, 20, 60, 30, 20, 40, 30, 60, 70, 80]\n",
        "\n",
        "dup_list=[]\n",
        "count=0\n",
        "\n",
        "for a in sample_list:\n",
        "  if a not in dup_list:\n",
        "    dup_list.append(a)\n",
        "\n",
        "  else:\n",
        "    print(a)"
      ],
      "execution_count": null,
      "outputs": [
        {
          "output_type": "stream",
          "text": [
            "20\n",
            "30\n",
            "60\n"
          ],
          "name": "stdout"
        }
      ]
    },
    {
      "cell_type": "markdown",
      "metadata": {
        "id": "JTgDJxrqTyOB"
      },
      "source": [
        "Create an outer function that will accept two strings, x and y. (x= 'Emma' and y = 'Kelly'.Create an inner function inside an outer function that will concatenate x and y.At last, an outer function will join the word 'developer' to it."
      ]
    },
    {
      "cell_type": "code",
      "metadata": {
        "id": "g2xFMU8TXJYA"
      },
      "source": [
        ""
      ],
      "execution_count": null,
      "outputs": []
    },
    {
      "cell_type": "code",
      "metadata": {
        "colab": {
          "base_uri": "https://localhost:8080/"
        },
        "id": "NS4X4sRhTzGe",
        "outputId": "f9d4b289-fdd3-4d75-8c07-c8fa97e6804f"
      },
      "source": [
        "def outer_function(x,y):\n",
        "\n",
        "  def inner_function(x,y):\n",
        "    return x+y\n",
        "  add = inner_function(x,y)\n",
        "  print(add,'developer')\n",
        "\n",
        "a = outer_function('Emma','Kelly')\n",
        "  "
      ],
      "execution_count": null,
      "outputs": [
        {
          "output_type": "stream",
          "text": [
            "EmmaKelly developer\n"
          ],
          "name": "stdout"
        }
      ]
    },
    {
      "cell_type": "markdown",
      "metadata": {
        "id": "DU4QiLKLXm8h"
      },
      "source": [
        "Modify the first item 35 to 3500 of a nested list inside the following list:list1 = [5, [10, 15, [20, 25, [30, 35], 40], 45], 50]"
      ]
    },
    {
      "cell_type": "code",
      "metadata": {
        "colab": {
          "base_uri": "https://localhost:8080/"
        },
        "id": "lyhsCFSmXnib",
        "outputId": "399d23f7-1748-4d48-c062-b815d4a13505"
      },
      "source": [
        "list1 = [5, [10, 15, [20, 25, [30, 35], 40], 45], 50]\n",
        "\n",
        "list1[1][2][2][1]=3500\n",
        "print(list1)"
      ],
      "execution_count": null,
      "outputs": [
        {
          "output_type": "stream",
          "text": [
            "[5, [10, 15, [20, 25, [30, 3500], 40], 45], 50]\n"
          ],
          "name": "stdout"
        }
      ]
    },
    {
      "cell_type": "markdown",
      "metadata": {
        "id": "M_Pl5g-kYCn5"
      },
      "source": [
        "Create a child class Bus that will inherit all of the variables and methods of the Vehicle class"
      ]
    },
    {
      "cell_type": "code",
      "metadata": {
        "colab": {
          "base_uri": "https://localhost:8080/"
        },
        "id": "eNNCz0xpYFpi",
        "outputId": "978a3d02-a3bc-43aa-b2a0-6fa3e61377ce"
      },
      "source": [
        "class Vehicle:\n",
        "  def A(self):\n",
        "    print('4 Wheels')\n",
        "  def B(self):\n",
        "    print('1 Driver needed')\n",
        "\n",
        "class Bus(Vehicle):\n",
        "  def C(self):\n",
        "    print('School bus')\n",
        "  def D(self):\n",
        "    print('Transport Bus')\n",
        "\n",
        "V1= Vehicle()\n",
        "V2= Bus()\n",
        "\n",
        "V2.A()"
      ],
      "execution_count": null,
      "outputs": [
        {
          "output_type": "stream",
          "text": [
            "4 Wheels\n"
          ],
          "name": "stdout"
        }
      ]
    },
    {
      "cell_type": "markdown",
      "metadata": {
        "id": "DlO9ZAfyaayE"
      },
      "source": [
        "Class InheritanceGiven:Create a Bus class that inherits from the Vehicle class. Give the capacity argument of Bus.seating_capacity() a default value of 50."
      ]
    },
    {
      "cell_type": "code",
      "metadata": {
        "id": "Q6XzWeZIabpk"
      },
      "source": [
        "class Vehicle:\n",
        "  def A(self):\n",
        "    print('Vehicle Class : Parent')\n",
        "\n",
        "class Bus(Vehicle):\n",
        "  \n",
        "  def __init__(self,seating_capacity):\n",
        "    self.seating_capacity = 50\n",
        "  \n"
      ],
      "execution_count": null,
      "outputs": []
    },
    {
      "cell_type": "markdown",
      "metadata": {
        "id": "39l57SlHbf2o"
      },
      "source": [
        "Create a Bus child class that inherits from the Vehicle class. The default fare charge of any vehicle is seating capacity * 100. If Vehicle is Bus instance, we need to add an extra 10% on full fare as a maintenance charge. So total fare for bus instance will become the final amount = total fare + 10% of the total fare.[Note: The bus seating capacity is 50. so the final fare amount should be 5500. You need to override the fare() method of a Vehicle class in Bus class.]\n"
      ]
    },
    {
      "cell_type": "code",
      "metadata": {
        "colab": {
          "base_uri": "https://localhost:8080/"
        },
        "id": "K54LIRGqbgOW",
        "outputId": "083950b5-6f32-4432-964d-14f14652f770"
      },
      "source": [
        "class Vehicle:\n",
        "  \n",
        "  def __init__(self,seating_capacity,fare):\n",
        "    self.seating_capacity = seating_capacity\n",
        "    self.fare=fare\n",
        "    \n",
        "  \n",
        "class Bus(Vehicle):\n",
        "  \n",
        "  def __init__(self,fare):\n",
        "    self.seating_capacity=50\n",
        "    self.fare = self.seating_capacity * 100\n",
        " \n",
        "  def bus_fare(self):\n",
        "    amount = self.fare + 0.1*(self.fare)\n",
        "    return amount\n",
        "\n",
        "P1=Bus(100)\n",
        "\n",
        "P1.bus_fare()"
      ],
      "execution_count": null,
      "outputs": [
        {
          "output_type": "execute_result",
          "data": {
            "text/plain": [
              "5500.0"
            ]
          },
          "metadata": {
            "tags": []
          },
          "execution_count": 7
        }
      ]
    },
    {
      "cell_type": "markdown",
      "metadata": {
        "id": "D9QXNYahkGMV"
      },
      "source": [
        "Write a Python class named Student with two attributes student_id, student_name. Add a new attribute student_class and display the entire attribute and their values of the said class. Now remove the student_name attribute and display the entire attribute with values."
      ]
    },
    {
      "cell_type": "code",
      "metadata": {
        "id": "atQOzdb8kGQp"
      },
      "source": [
        "class Student:\n",
        "\n",
        "  def __init__(self,id,name):\n",
        "    self.id=id\n",
        "    self.name=name\n",
        "\n",
        "class Newstudent(Student):\n",
        "  def __init__(self,id,name,standard):\n",
        "    self.standard=standard\n",
        "\n",
        "class Finalstudent(Newstudent):\n",
        "  def __init__(self,id,standard):\n",
        "    self.id=id\n",
        "    self.standard=standard\n",
        "\n",
        "\n",
        "S1 = Finalstudent(1,'B.tech')"
      ],
      "execution_count": null,
      "outputs": []
    },
    {
      "cell_type": "markdown",
      "metadata": {
        "id": "aezVPchFnYVQ"
      },
      "source": [
        "Write a Python class named Circle constructed by a radius and two methods which will compute the area and the perimeter of a circle."
      ]
    },
    {
      "cell_type": "code",
      "metadata": {
        "colab": {
          "base_uri": "https://localhost:8080/"
        },
        "id": "0A1sqQgQnYZj",
        "outputId": "2191ac63-90c0-451d-ee72-c2b3d8946283"
      },
      "source": [
        "class Circle:\n",
        "  def __init__(self,radius):\n",
        "    self.radius=radius\n",
        "\n",
        "  def area(self):\n",
        "    print('This method will find area')\n",
        "    area = (22/7)*self.radius*self.radius\n",
        "    return area\n",
        "\n",
        "  def perimeter(self):\n",
        "    print('This methos will find perimeter')\n",
        "    perimeter = 2*(22/7)*self.radius\n",
        "    return perimeter\n",
        "\n",
        "C1=Circle(7)\n",
        "\n",
        "C1.area()\n",
        "\n",
        "C1.perimeter()"
      ],
      "execution_count": null,
      "outputs": [
        {
          "output_type": "stream",
          "text": [
            "This method will find area\n",
            "This methos will find perimeter\n"
          ],
          "name": "stdout"
        },
        {
          "output_type": "execute_result",
          "data": {
            "text/plain": [
              "44.0"
            ]
          },
          "metadata": {
            "tags": []
          },
          "execution_count": 113
        }
      ]
    },
    {
      "cell_type": "markdown",
      "metadata": {
        "id": "t5ksF4QbogHR"
      },
      "source": [
        "Create a class Bank Account and create methods to depict: 1. Withdrawal and 2. Deposits operations. You may take \"amount\" as an attribute and initialize it. Create two objects and check for each methods."
      ]
    },
    {
      "cell_type": "code",
      "metadata": {
        "colab": {
          "base_uri": "https://localhost:8080/"
        },
        "id": "zoUiDMwmogMo",
        "outputId": "963f83f3-f9e2-40cb-d8f4-ad1fbccab954"
      },
      "source": [
        "class Bank:\n",
        "  def __init__(self,amount):\n",
        "    self.amount=amount\n",
        "\n",
        "  def Withdrawal(self):\n",
        "    print('Total amount withdrawl is x')\n",
        "  \n",
        "  def Deposit(self):\n",
        "    print('Total amount deposited is y')\n",
        "\n",
        "B1=Bank(1000)\n",
        "B2=Bank(5000)\n",
        "\n",
        "B1.Withdrawal()\n",
        "B2.Deposit()"
      ],
      "execution_count": null,
      "outputs": [
        {
          "output_type": "stream",
          "text": [
            "Total amount withdrawl is x\n",
            "Total amount deposited is y\n"
          ],
          "name": "stdout"
        }
      ]
    }
  ]
}