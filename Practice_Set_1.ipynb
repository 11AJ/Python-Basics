{
  "nbformat": 4,
  "nbformat_minor": 0,
  "metadata": {
    "colab": {
      "name": "Practice Set 1(A).ipynb",
      "provenance": [],
      "authorship_tag": "ABX9TyPqhN90MV+B6BeFk4cpck6x",
      "include_colab_link": true
    },
    "kernelspec": {
      "name": "python3",
      "display_name": "Python 3"
    }
  },
  "cells": [
    {
      "cell_type": "markdown",
      "metadata": {
        "id": "view-in-github",
        "colab_type": "text"
      },
      "source": [
        "<a href=\"https://colab.research.google.com/github/11AJ/Python-Basics/blob/main/Practice_Set_1.ipynb\" target=\"_parent\"><img src=\"https://colab.research.google.com/assets/colab-badge.svg\" alt=\"Open In Colab\"/></a>"
      ]
    },
    {
      "cell_type": "code",
      "metadata": {
        "id": "I7Q2kjCQM2FV",
        "colab": {
          "base_uri": "https://localhost:8080/"
        },
        "outputId": "cf280f66-2df1-4afd-b095-b5a7d80bac3d"
      },
      "source": [
        "#Below are the two lists convert it into the dictionary\n",
        "keys = ['Ten', 'Twenty', 'Thirty']\n",
        "values = [10, 20, 30]\n",
        "\n",
        "new_dict= dict(zip(keys,values))\n",
        "print(new_dict)"
      ],
      "execution_count": null,
      "outputs": [
        {
          "output_type": "stream",
          "text": [
            "{'Ten': 10, 'Twenty': 20, 'Thirty': 30}\n"
          ],
          "name": "stdout"
        }
      ]
    },
    {
      "cell_type": "code",
      "metadata": {
        "colab": {
          "base_uri": "https://localhost:8080/"
        },
        "id": "sCOcxtKxvJ2h",
        "outputId": "dc5876a3-00f3-4911-b24a-8e5b4554920b"
      },
      "source": [
        "dict1 = {'Ten': 10, 'Twenty': 20, 'Thirty': 30}\n",
        "dict2 = {'Thirty': 30, 'Fourty': 40, 'Fifty': 50}\n",
        "\n",
        "dict3={**dict1,**dict2}\n",
        "print(dict3)"
      ],
      "execution_count": null,
      "outputs": [
        {
          "output_type": "stream",
          "text": [
            "{'Ten': 10, 'Twenty': 20, 'Thirty': 30, 'Fourty': 40, 'Fifty': 50}\n"
          ],
          "name": "stdout"
        }
      ]
    },
    {
      "cell_type": "code",
      "metadata": {
        "id": "i2uY1DCavdyq"
      },
      "source": [
        "sampleDict = {\"name\": \"Kelly\",\"age\":25,\"salary\": 8000,\"city\": \"New york\"}\n",
        "rem={'age','city'}\n",
        "\n",
        "[sampleDict.pop(key) for key in rem]\n",
        "print(sampleDict)"
      ],
      "execution_count": null,
      "outputs": []
    },
    {
      "cell_type": "code",
      "metadata": {
        "colab": {
          "base_uri": "https://localhost:8080/"
        },
        "id": "rhe0OHvw-BQ7",
        "outputId": "528e2783-74ed-4cd6-9ef3-dff82fd88b54"
      },
      "source": [
        "#Get the key corresponding to the minimum value from the following dictionary\n",
        "sampleDict = {'Physics': 82,'Math': 65,'history': 75}\n",
        " \n",
        "print(min(sampleDict, key=sampleDict.get))"
      ],
      "execution_count": null,
      "outputs": [
        {
          "output_type": "stream",
          "text": [
            "Math\n"
          ],
          "name": "stdout"
        }
      ]
    },
    {
      "cell_type": "code",
      "metadata": {
        "id": "7wNpa693u-Se"
      },
      "source": [
        ""
      ],
      "execution_count": null,
      "outputs": []
    },
    {
      "cell_type": "code",
      "metadata": {
        "id": "q8EOaR-8u7x-"
      },
      "source": [
        ""
      ],
      "execution_count": null,
      "outputs": []
    },
    {
      "cell_type": "code",
      "metadata": {
        "colab": {
          "base_uri": "https://localhost:8080/"
        },
        "id": "wFcGplbYADH5",
        "outputId": "c6ccadf3-63ef-4fce-9f80-2cd0eedc5251"
      },
      "source": [
        "#Given a Python dictionary, Change Brad’s salary to 8500\n",
        "sampleDict = {\n",
        "     'emp1': {'name': 'Jhon', 'salary': 7500},\n",
        "     'emp2': {'name': 'Emma', 'salary': 8000},\n",
        "     'emp3': {'name': 'Brad', 'salary': 6500}\n",
        "}\n",
        "\n",
        "sampleDict['emp3']['salary']=8500\n",
        "\n",
        "print(sampleDict)"
      ],
      "execution_count": null,
      "outputs": [
        {
          "output_type": "stream",
          "text": [
            "{'emp1': {'name': 'Jhon', 'salary': 7500}, 'emp2': {'name': 'Emma', 'salary': 8000}, 'emp3': {'name': 'Brad', 'salary': 8500}}\n"
          ],
          "name": "stdout"
        }
      ]
    },
    {
      "cell_type": "code",
      "metadata": {
        "id": "aR7nbAtXED_v"
      },
      "source": [
        ""
      ],
      "execution_count": null,
      "outputs": []
    },
    {
      "cell_type": "code",
      "metadata": {
        "id": "q8MUZw1RPU7T",
        "colab": {
          "base_uri": "https://localhost:8080/"
        },
        "outputId": "6827d311-98ca-49c6-b0e7-7c11448aed89"
      },
      "source": [
        "#Reverse the following tuple\n",
        "\n",
        "aTuple = (10, 20, 30, 40, 50)\n",
        "\n",
        "b = tuple(reversed(aTuple))\n",
        "print(b)"
      ],
      "execution_count": null,
      "outputs": [
        {
          "output_type": "stream",
          "text": [
            "(50, 40, 30, 20, 10)\n"
          ],
          "name": "stdout"
        }
      ]
    },
    {
      "cell_type": "code",
      "metadata": {
        "id": "DkrcVeEiLCcG"
      },
      "source": [
        "#Unpack the following tuple into 4 variables\n",
        "\n",
        "aTuple = ('a', 'b', 'c', 'd')\n",
        "\n",
        "#Expected output:\n",
        "\n",
        "aTuple1 = (10, 20, 30, 40)\n",
        "# Your code\n",
        "#print(a) # should print 10\n",
        "#print(b) # should print 20\n",
        "#print(c) # should print 30\n",
        "#print(d) # should print 40\n",
        "\n",
        "dict1 = dict(zip(aTuple,aTuple1))\n",
        " print('a')"
      ],
      "execution_count": null,
      "outputs": []
    }
  ]
}