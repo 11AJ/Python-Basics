{
  "nbformat": 4,
  "nbformat_minor": 0,
  "metadata": {
    "colab": {
      "name": "Data Structures (Q&A).ipynb",
      "provenance": [],
      "authorship_tag": "ABX9TyN78PR/SMa/pIApT2kiDztD",
      "include_colab_link": true
    },
    "kernelspec": {
      "name": "python3",
      "display_name": "Python 3"
    }
  },
  "cells": [
    {
      "cell_type": "markdown",
      "metadata": {
        "id": "view-in-github",
        "colab_type": "text"
      },
      "source": [
        "<a href=\"https://colab.research.google.com/github/11AJ/Python-Basics/blob/main/Data_Structures_(Q%26A).ipynb\" target=\"_parent\"><img src=\"https://colab.research.google.com/assets/colab-badge.svg\" alt=\"Open In Colab\"/></a>"
      ]
    },
    {
      "cell_type": "code",
      "metadata": {
        "id": "nlmjCDdLIfGe"
      },
      "source": [
        "#Given two lists create a third list by picking an odd-index element from the first list and even index elements from the second.\n",
        "listOne = [3, 6, 9, 12, 15, 18, 21]\n",
        "listTwo = [4, 8, 12, 16, 20, 24, 28]\n",
        "\n",
        "for a in listOne:\n",
        "  listOne.pop(a)\n",
        "  a=a+2\n",
        "print(listOne)"
      ],
      "execution_count": null,
      "outputs": []
    },
    {
      "cell_type": "code",
      "metadata": {
        "colab": {
          "base_uri": "https://localhost:8080/"
        },
        "id": "XPFR46qBR9G_",
        "outputId": "6e61d7de-c177-4b4f-be22-0989bb872cf7"
      },
      "source": [
        "#Given a list, remove the element at index 4 and add it to the 2nd position and at the end of the list\n",
        "list1 = [34, 54, 67, 89, 11, 43, 94]\n",
        "\n",
        "list1.pop(4)\n",
        "list1.insert(2,11)\n",
        "list1.append(11)\n",
        "print(list1)"
      ],
      "execution_count": null,
      "outputs": [
        {
          "output_type": "stream",
          "text": [
            "[34, 54, 11, 67, 89, 43, 94, 11]\n"
          ],
          "name": "stdout"
        }
      ]
    },
    {
      "cell_type": "code",
      "metadata": {
        "colab": {
          "base_uri": "https://localhost:8080/"
        },
        "id": "J0BT3JR7S4s4",
        "outputId": "ca634243-a9d7-4010-fed3-0c8249c8efdf"
      },
      "source": [
        "#Given a list slice it into 3 equal chunks and reverse each chunk\n",
        "sampleList = [11, 45, 8, 23, 14, 12, 78, 45, 89]\n",
        "\n",
        "list1=sampleList[0:3]\n",
        "list1.reverse()\n",
        "list2=sampleList[3:6]\n",
        "list2.reverse()\n",
        "list3=sampleList[6:]\n",
        "list3.reverse()\n",
        "\n",
        "\n",
        "print('List 1 :',list1)\n",
        "print('List 2 :',list2)\n",
        "print('List 3 :',list3)"
      ],
      "execution_count": null,
      "outputs": [
        {
          "output_type": "stream",
          "text": [
            "List 1 : [8, 45, 11]\n",
            "List 2 : [12, 14, 23]\n",
            "List 3 : [89, 45, 78]\n"
          ],
          "name": "stdout"
        }
      ]
    },
    {
      "cell_type": "code",
      "metadata": {
        "colab": {
          "base_uri": "https://localhost:8080/"
        },
        "id": "Ij31NLaQUZiv",
        "outputId": "6d04345a-6b21-42f3-c4a9-b8569cf9b6fd"
      },
      "source": [
        "#Iterate a given list and count the occurrence of each element and create a dictionary to show the count of each element\n",
        "\n",
        "sampleList = [11, 45, 8, 11, 23, 45, 23, 45, 89]\n",
        "\n",
        "CountDict = dict()\n",
        "\n",
        "for item in sampleList:\n",
        "  if(item in CountDict):\n",
        "    CountDict[item] +=1\n",
        "\n",
        "  else:\n",
        "    CountDict[item]= 1 \n",
        "\n",
        "print(CountDict)    "
      ],
      "execution_count": null,
      "outputs": [
        {
          "output_type": "stream",
          "text": [
            "{11: 2, 45: 3, 8: 1, 23: 2, 89: 1}\n"
          ],
          "name": "stdout"
        }
      ]
    },
    {
      "cell_type": "code",
      "metadata": {
        "colab": {
          "base_uri": "https://localhost:8080/"
        },
        "id": "s287H_BzaR4C",
        "outputId": "3054c2ef-f266-44eb-9918-d5902cf7ad30"
      },
      "source": [
        "# Given a two list of equal size create a Python set such that it shows the element from both lists in the pair\n",
        "List1= [2, 3, 4, 5, 6, 7, 8]\n",
        "List2 = [4, 9, 16, 25, 36, 49, 64]\n",
        "\n",
        "pythonset = zip(List1,List2)\n",
        "resultset= set(pythonset)\n",
        "\n",
        "print(resultset)"
      ],
      "execution_count": null,
      "outputs": [
        {
          "output_type": "stream",
          "text": [
            "{(6, 36), (8, 64), (4, 16), (5, 25), (3, 9), (7, 49), (2, 4)}\n"
          ],
          "name": "stdout"
        }
      ]
    },
    {
      "cell_type": "code",
      "metadata": {
        "colab": {
          "base_uri": "https://localhost:8080/"
        },
        "id": "18ITdttWcnLf",
        "outputId": "514aafb1-ca26-41f5-d474-94accbb0e2d0"
      },
      "source": [
        "#Given the following two sets find the intersection and remove those elements from the first set\n",
        "\n",
        "Set1 = {65, 42, 78, 83, 23, 57, 29}\n",
        "Set2 = {67, 73, 43, 48, 83, 57, 29}\n",
        "\n",
        "Set3=Set1.intersection(Set2)\n",
        "Set4 = Set1 - Set3\n",
        "print(Set4)"
      ],
      "execution_count": null,
      "outputs": [
        {
          "output_type": "stream",
          "text": [
            "{65, 42, 78, 23}\n"
          ],
          "name": "stdout"
        }
      ]
    },
    {
      "cell_type": "code",
      "metadata": {
        "colab": {
          "base_uri": "https://localhost:8080/"
        },
        "id": "NmeceKwNdruo",
        "outputId": "b1f0e69b-52c2-46bf-8d82-169d609e9932"
      },
      "source": [
        "#Given two sets, Checks if One Set is a subset or superset of another Set. if the subset is found delete all elements from that set\n",
        "firstSet = {27, 43, 34}\n",
        "secondSet = {34, 93, 22, 27, 43, 53, 48}\n",
        "\n",
        "if(firstSet.issubset(secondSet) or firstSet.issuperset(secondSet)):\n",
        "  thirdset = secondSet - firstSet\n",
        "else:\n",
        "  thirdset = firstSet - secondSet\n",
        "print(thirdset)  \n",
        "\n"
      ],
      "execution_count": null,
      "outputs": [
        {
          "output_type": "stream",
          "text": [
            "{48, 93, 53, 22}\n"
          ],
          "name": "stdout"
        }
      ]
    },
    {
      "cell_type": "code",
      "metadata": {
        "colab": {
          "base_uri": "https://localhost:8080/"
        },
        "id": "zQajgrAofQD-",
        "outputId": "9c09d46e-22e0-4560-b4bd-7c006eda8e85"
      },
      "source": [
        "#Iterate a given list and Check if a given element already exists in a dictionary as a key’s value if not delete it from the list\n",
        "\n",
        "rollNumber = [47, 64, 69, 37, 76, 83, 95, 97]\n",
        "sampleDict ={'John':47, 'Emma':69, 'Kelly':76, 'Jason':97}\n",
        "\n",
        "commonValue[:] = [a for a in rollNumber if a in sampleDict.values()]\n",
        "\n",
        "print(commonValue)"
      ],
      "execution_count": null,
      "outputs": [
        {
          "output_type": "stream",
          "text": [
            "[47, 69, 76, 97]\n"
          ],
          "name": "stdout"
        }
      ]
    },
    {
      "cell_type": "code",
      "metadata": {
        "colab": {
          "base_uri": "https://localhost:8080/"
        },
        "id": "0lI3Kx8Ggd-G",
        "outputId": "53a6007b-054b-4d77-f382-44eaabd9ef54"
      },
      "source": [
        "#Given a dictionary get all values from the dictionary and add them to a list but don’t add duplicate\n",
        "\n",
        "speed ={'jan':47, 'feb':52, 'march':47, 'April':44, 'May':52, 'June':53, 'july':54, 'Aug':44, 'Sept':54}\n",
        "\n",
        "list1 = list()\n",
        "\n",
        "for item in speed.values():\n",
        "  if(item not in list1):\n",
        "    list1.append(item)\n",
        "\n",
        "print(list1)"
      ],
      "execution_count": null,
      "outputs": [
        {
          "output_type": "stream",
          "text": [
            "[47, 52, 44, 53, 54]\n"
          ],
          "name": "stdout"
        }
      ]
    },
    {
      "cell_type": "code",
      "metadata": {
        "colab": {
          "base_uri": "https://localhost:8080/"
        },
        "id": "04aKSCSCid_R",
        "outputId": "db62b67e-60c2-4c8a-ef51-317af616d3d0"
      },
      "source": [
        "#Remove duplicate from a list and create a tuple and find the minimum and maximum number\n",
        "\n",
        "sampleList = [87, 45, 41, 65, 94, 41, 99, 94]\n",
        "new_list=list()\n",
        "for item in sampleList:\n",
        "  if(item not in new_list):\n",
        "    new_list.append(item)\n",
        "print('Unique items :',new_list)    \n",
        "\n",
        "new_tuple= tuple(new_list)\n",
        "print('Tuple :',new_tuple)\n",
        "print('Minimum :',min(new_tuple))\n",
        "print('Maximum :',max(new_tuple))"
      ],
      "execution_count": null,
      "outputs": [
        {
          "output_type": "stream",
          "text": [
            "Unique items : [87, 45, 41, 65, 94, 99]\n",
            "Tuple : (87, 45, 41, 65, 94, 99)\n",
            "Minimum : 41\n",
            "Maximum : 99\n"
          ],
          "name": "stdout"
        }
      ]
    },
    {
      "cell_type": "code",
      "metadata": {
        "id": "L6KFgCLvmYsH"
      },
      "source": [
        ""
      ],
      "execution_count": null,
      "outputs": []
    }
  ]
}